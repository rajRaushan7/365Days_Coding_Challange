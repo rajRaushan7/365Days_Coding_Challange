{
 "cells": [
  {
   "cell_type": "code",
   "execution_count": null,
   "id": "764f2b4b",
   "metadata": {
    "vscode": {
     "languageId": "plaintext"
    }
   },
   "outputs": [],
   "source": [
    "# DataStructure: [resturant_id 2022 2023 2024 2025]\n",
    "\n",
    "sales"
   ]
  }
 ],
 "metadata": {
  "language_info": {
   "name": "python"
  }
 },
 "nbformat": 4,
 "nbformat_minor": 5
}
